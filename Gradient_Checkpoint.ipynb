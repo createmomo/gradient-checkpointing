{
  "nbformat": 4,
  "nbformat_minor": 0,
  "metadata": {
    "colab": {
      "name": "Gradient Checkpoint",
      "provenance": [],
      "collapsed_sections": []
    },
    "kernelspec": {
      "name": "python3",
      "display_name": "Python 3"
    },
    "language_info": {
      "name": "python"
    },
    "accelerator": "GPU"
  },
  "cells": [
    {
      "cell_type": "code",
      "metadata": {
        "id": "zY8g0Gt942yc"
      },
      "source": [
        "import pandas as pd\n",
        "import torch\n",
        "from torch import nn\n",
        "from torchvision.models import resnet18\n",
        "\n",
        "from torch.utils.checkpoint import checkpoint_sequential\n",
        "from matplotlib import pyplot as plt"
      ],
      "execution_count": null,
      "outputs": []
    },
    {
      "cell_type": "code",
      "metadata": {
        "id": "1phWRRPf52oR"
      },
      "source": [
        "def _get_gpu_mem(synchronize=True, empty_cache=True):\n",
        "    return torch.cuda.memory_allocated(), torch.cuda.memory_cached()\n",
        "\n",
        "\n",
        "def _generate_mem_hook(handle_ref, mem, idx, hook_type, exp):\n",
        "    def hook(self, *args):\n",
        "        if len(mem) == 0 or mem[-1][\"exp\"] != exp:\n",
        "            call_idx = 0\n",
        "        else:\n",
        "            call_idx = mem[-1][\"call_idx\"] + 1\n",
        "\n",
        "        mem_all, mem_cached = _get_gpu_mem()\n",
        "        torch.cuda.synchronize()\n",
        "        mem.append({\n",
        "            'layer_idx': idx,\n",
        "            'call_idx': call_idx,\n",
        "            'layer_type': type(self).__name__,\n",
        "            'exp': exp,\n",
        "            'hook_type': hook_type,\n",
        "            'mem_all': mem_all,\n",
        "            'mem_cached': mem_cached,\n",
        "        })\n",
        "\n",
        "    return hook\n",
        "\n",
        "\n",
        "def _add_memory_hooks(idx, mod, mem_log, exp, hr):\n",
        "    h = mod.register_forward_pre_hook(_generate_mem_hook(hr, mem_log, idx, 'pre', exp))\n",
        "    hr.append(h)\n",
        "\n",
        "    h = mod.register_forward_hook(_generate_mem_hook(hr, mem_log, idx, 'fwd', exp))\n",
        "    hr.append(h)\n",
        "\n",
        "    h = mod.register_backward_hook(_generate_mem_hook(hr, mem_log, idx, 'bwd', exp))\n",
        "    hr.append(h)\n",
        "\n",
        "def log_mem_no_cp(model, inp, mem_log=None, exp=None):\n",
        "    mem_log = mem_log or []\n",
        "    exp = exp or f'exp_{len(mem_log)}'\n",
        "    hr = []\n",
        "    for idx, module in enumerate(model.modules()):\n",
        "        _add_memory_hooks(idx, module, mem_log, exp, hr)\n",
        "\n",
        "    try:\n",
        "        out = model(inp)\n",
        "        loss = out.sum()\n",
        "        loss.backward()\n",
        "    finally:\n",
        "        [h.remove() for h in hr]\n",
        "\n",
        "        return mem_log\n",
        "\n",
        "def log_mem_no_cp_no_backward(model, inp, mem_log=None, exp=None):\n",
        "    mem_log = mem_log or []\n",
        "    exp = exp or f'exp_{len(mem_log)}'\n",
        "    hr = []\n",
        "    for idx, module in enumerate(model.modules()):\n",
        "        _add_memory_hooks(idx, module, mem_log, exp, hr)\n",
        "\n",
        "    try:\n",
        "        out = model(inp)\n",
        "        loss = out.sum()\n",
        "        #loss.backward()\n",
        "    finally:\n",
        "        [h.remove() for h in hr]\n",
        "\n",
        "        return mem_log\n",
        "\n",
        "def log_mem_no_cp_no_backward_no_grad(model, inp, mem_log=None, exp=None):\n",
        "    mem_log = mem_log or []\n",
        "    exp = exp or f'exp_{len(mem_log)}'\n",
        "    hr = []\n",
        "    for idx, module in enumerate(model.modules()):\n",
        "        _add_memory_hooks(idx, module, mem_log, exp, hr)\n",
        "\n",
        "    try:\n",
        "        with torch.no_grad():\n",
        "          out = model(inp)\n",
        "          loss = out.sum()\n",
        "        #loss.backward()\n",
        "    finally:\n",
        "        [h.remove() for h in hr]\n",
        "\n",
        "        return mem_log\n",
        "\n",
        "def log_mem_cp(model, inp, mem_log=None, exp=None, cp_chunks=3):\n",
        "    mem_log = mem_log or []\n",
        "    exp = exp or f'exp_{len(mem_log)}'\n",
        "    hr = []\n",
        "    for idx, module in enumerate(model.modules()):\n",
        "        _add_memory_hooks(idx, module, mem_log, exp, hr)\n",
        "\n",
        "    try:\n",
        "        out = checkpoint_sequential(model, cp_chunks, inp)\n",
        "        loss = out.sum()\n",
        "        loss.backward()\n",
        "    finally:\n",
        "        [h.remove() for h in hr]\n",
        "\n",
        "        return mem_log\n"
      ],
      "execution_count": null,
      "outputs": []
    },
    {
      "cell_type": "code",
      "metadata": {
        "id": "xsz2CajM6C0V"
      },
      "source": [
        "def plot_mem(\n",
        "        df,\n",
        "        exps=None,\n",
        "        normalize_call_idx=False,\n",
        "        normalize_mem_all=False,\n",
        "        filter_fwd=False,\n",
        "        return_df=False,\n",
        "        output_file=None\n",
        "):\n",
        "    if exps is None:\n",
        "        exps = df.exp.drop_duplicates()\n",
        "\n",
        "    fig, ax = plt.subplots(figsize=(10, 5))\n",
        "    for exp in exps:\n",
        "        df_ = df[df.exp == exp]\n",
        "\n",
        "        if normalize_call_idx:\n",
        "            df_.call_idx = df_.call_idx / df_.call_idx.max()\n",
        "\n",
        "        if normalize_mem_all:\n",
        "            df_.mem_all = df_.mem_all - df_[df_.call_idx == df_.call_idx.min()].mem_all.iloc[0]\n",
        "            df_.mem_all = df_.mem_all // 2 ** 20\n",
        "\n",
        "        if filter_fwd:\n",
        "            layer_idx = 0\n",
        "            callidx_stop = df_[(df_[\"layer_idx\"] == layer_idx) & (df_[\"hook_type\"] == \"fwd\")][\"call_idx\"].iloc[0]\n",
        "            df_ = df_[df_[\"call_idx\"] <= callidx_stop]\n",
        "            # df_ = df_[df_.call_idx < df_[df_.layer_idx=='bwd'].call_idx.min()]\n",
        "\n",
        "        plot = df_.plot(ax=ax, x='call_idx', y='mem_all', label=exp)\n",
        "        if output_file:\n",
        "            plot.get_figure().savefig(output_file)\n",
        "\n",
        "    if return_df:\n",
        "        return df_"
      ],
      "execution_count": null,
      "outputs": []
    },
    {
      "cell_type": "code",
      "metadata": {
        "id": "O3kKQ3gW6DY7"
      },
      "source": [
        "base_dir = '.'\n",
        "# %% Analysis baseline\n",
        "bs = 128\n",
        "input = torch.rand(bs, 3, 224, 224).cuda()\n",
        "\n",
        "mem_log = []\n",
        "\n",
        "model = resnet18().cuda()\n",
        "class Flatten(nn.Module):\n",
        "    def forward(self, x):\n",
        "        return torch.flatten(x, 1)"
      ],
      "execution_count": null,
      "outputs": []
    },
    {
      "cell_type": "code",
      "metadata": {
        "id": "1EipPUIUE2oL"
      },
      "source": [
        "seq_model = nn.Sequential(\n",
        "    model.conv1,\n",
        "    model.bn1,\n",
        "    model.relu,\n",
        "    model.maxpool,\n",
        "    model.layer1,\n",
        "    model.layer2,\n",
        "    model.layer3,\n",
        "    model.layer4,\n",
        "    model.avgpool,\n",
        "    Flatten(),\n",
        "    model.fc,\n",
        ")"
      ],
      "execution_count": null,
      "outputs": []
    },
    {
      "cell_type": "code",
      "metadata": {
        "colab": {
          "base_uri": "https://localhost:8080/"
        },
        "id": "297KO6mrXeJw",
        "outputId": "db0455a3-6937-499d-cc2c-2385047e7ab8"
      },
      "source": [
        "mem_log.extend(log_mem_no_cp(seq_model, input, exp='no_checkpoints (forward and backward, yes grad)'))\n",
        "\n",
        "torch.cuda.synchronize()\n",
        "torch.cuda.empty_cache()"
      ],
      "execution_count": null,
      "outputs": [
        {
          "output_type": "stream",
          "name": "stderr",
          "text": [
            "/usr/local/lib/python3.7/dist-packages/torch/cuda/memory.py:386: FutureWarning: torch.cuda.memory_cached has been renamed to torch.cuda.memory_reserved\n",
            "  FutureWarning)\n",
            "/usr/local/lib/python3.7/dist-packages/torch/nn/modules/module.py:1025: UserWarning: Using a non-full backward hook when the forward contains multiple autograd Nodes is deprecated and will be removed in future versions. This hook will be missing some grad_input. Please use register_full_backward_hook to get the documented behavior.\n",
            "  warnings.warn(\"Using a non-full backward hook when the forward contains multiple autograd Nodes \"\n"
          ]
        }
      ]
    },
    {
      "cell_type": "code",
      "metadata": {
        "colab": {
          "base_uri": "https://localhost:8080/"
        },
        "id": "_zalCWNGfd8t",
        "outputId": "3582286f-d0bc-4131-f9d5-3547a5509290"
      },
      "source": [
        "seq_model = nn.Sequential(\n",
        "    model.conv1,\n",
        "    model.bn1,\n",
        "    model.relu,\n",
        "    model.maxpool,\n",
        "    model.layer1,\n",
        "    model.layer2,\n",
        "    model.layer3,\n",
        "    model.layer4,\n",
        "    model.avgpool,\n",
        "    Flatten(),\n",
        "    model.fc,\n",
        ")\n",
        "mem_log.extend(log_mem_no_cp_no_backward_no_grad(seq_model, input, exp='no_checkpoints (forward only, no grad)'))\n",
        "torch.cuda.synchronize()\n",
        "torch.cuda.empty_cache()"
      ],
      "execution_count": null,
      "outputs": [
        {
          "output_type": "stream",
          "name": "stderr",
          "text": [
            "/usr/local/lib/python3.7/dist-packages/torch/cuda/memory.py:386: FutureWarning: torch.cuda.memory_cached has been renamed to torch.cuda.memory_reserved\n",
            "  FutureWarning)\n"
          ]
        }
      ]
    },
    {
      "cell_type": "code",
      "metadata": {
        "id": "wmsT7a9VXn4l"
      },
      "source": [
        "seq_model = nn.Sequential(\n",
        "    model.conv1,\n",
        "    model.bn1,\n",
        "    model.relu,\n",
        "    model.maxpool,\n",
        "    model.layer1,\n",
        "    model.layer2,\n",
        "    model.layer3,\n",
        "    model.layer4,\n",
        "    model.avgpool,\n",
        "    Flatten(),\n",
        "    model.fc,\n",
        ")"
      ],
      "execution_count": null,
      "outputs": []
    },
    {
      "cell_type": "code",
      "metadata": {
        "colab": {
          "base_uri": "https://localhost:8080/"
        },
        "id": "rkXfULjmEP4M",
        "outputId": "537a5b68-6ac7-4a90-f35b-a63aca80dc49"
      },
      "source": [
        "mem_log.extend(log_mem_no_cp_no_backward(seq_model, input, exp='no_checkpoints (forward only, yes grad)'))\n",
        "torch.cuda.synchronize()\n",
        "torch.cuda.empty_cache()"
      ],
      "execution_count": null,
      "outputs": [
        {
          "output_type": "stream",
          "name": "stderr",
          "text": [
            "/usr/local/lib/python3.7/dist-packages/torch/cuda/memory.py:386: FutureWarning: torch.cuda.memory_cached has been renamed to torch.cuda.memory_reserved\n",
            "  FutureWarning)\n",
            "/usr/local/lib/python3.7/dist-packages/torch/nn/modules/module.py:1025: UserWarning: Using a non-full backward hook when the forward contains multiple autograd Nodes is deprecated and will be removed in future versions. This hook will be missing some grad_input. Please use register_full_backward_hook to get the documented behavior.\n",
            "  warnings.warn(\"Using a non-full backward hook when the forward contains multiple autograd Nodes \"\n"
          ]
        }
      ]
    },
    {
      "cell_type": "code",
      "metadata": {
        "id": "SRBe7A2mXnOH"
      },
      "source": [
        "seq_model = nn.Sequential(\n",
        "    model.conv1,\n",
        "    model.bn1,\n",
        "    model.relu,\n",
        "    model.maxpool,\n",
        "    model.layer1,\n",
        "    model.layer2,\n",
        "    model.layer3,\n",
        "    model.layer4,\n",
        "    model.avgpool,\n",
        "    Flatten(),\n",
        "    model.fc,\n",
        ")"
      ],
      "execution_count": null,
      "outputs": []
    },
    {
      "cell_type": "code",
      "metadata": {
        "colab": {
          "base_uri": "https://localhost:8080/"
        },
        "id": "CDWMyJxU8YtG",
        "outputId": "5834308d-7cf7-4df7-c989-0d2e8ebaaf73"
      },
      "source": [
        "mem_log.extend(log_mem_cp(seq_model, input, cp_chunks=3, exp='3_checkpoints (forward and backward, yes grad)'))\n",
        "\n",
        "torch.cuda.synchronize()\n",
        "torch.cuda.empty_cache()"
      ],
      "execution_count": null,
      "outputs": [
        {
          "output_type": "stream",
          "name": "stderr",
          "text": [
            "/usr/local/lib/python3.7/dist-packages/torch/utils/checkpoint.py:25: UserWarning: None of the inputs have requires_grad=True. Gradients will be None\n",
            "  warnings.warn(\"None of the inputs have requires_grad=True. Gradients will be None\")\n",
            "/usr/local/lib/python3.7/dist-packages/torch/cuda/memory.py:386: FutureWarning: torch.cuda.memory_cached has been renamed to torch.cuda.memory_reserved\n",
            "  FutureWarning)\n",
            "/usr/local/lib/python3.7/dist-packages/torch/nn/modules/module.py:1025: UserWarning: Using a non-full backward hook when the forward contains multiple autograd Nodes is deprecated and will be removed in future versions. This hook will be missing some grad_input. Please use register_full_backward_hook to get the documented behavior.\n",
            "  warnings.warn(\"Using a non-full backward hook when the forward contains multiple autograd Nodes \"\n"
          ]
        }
      ]
    },
    {
      "cell_type": "code",
      "metadata": {
        "id": "GYeFaCH90DYp"
      },
      "source": [
        "seq_model = nn.Sequential(\n",
        "    model.conv1,\n",
        "    model.bn1,\n",
        "    model.relu,\n",
        "    model.maxpool,\n",
        "    model.layer1,\n",
        "    model.layer2,\n",
        "    model.layer3,\n",
        "    model.layer4,\n",
        "    model.avgpool,\n",
        "    Flatten(),\n",
        "    model.fc,\n",
        ")"
      ],
      "execution_count": null,
      "outputs": []
    },
    {
      "cell_type": "code",
      "metadata": {
        "id": "h528mm_aUWcu"
      },
      "source": [
        "df = pd.DataFrame(mem_log)"
      ],
      "execution_count": null,
      "outputs": []
    },
    {
      "cell_type": "code",
      "metadata": {
        "colab": {
          "base_uri": "https://localhost:8080/",
          "height": 346
        },
        "id": "jDgHDrOYUalz",
        "outputId": "321ad39f-46ea-4eee-a106-2865f93aa7a0"
      },
      "source": [
        "plot_mem(df)"
      ],
      "execution_count": null,
      "outputs": [
        {
          "output_type": "display_data",
          "data": {
            "text/plain": [
              "<Figure size 720x360 with 1 Axes>"
            ],
            "image/png": "[encoded data removed]"
          },
          "metadata": {
            "needs_background": "light"
          }
        }
      ]
    },
    {
      "cell_type": "code",
      "metadata": {
        "colab": {
          "base_uri": "https://localhost:8080/"
        },
        "id": "FTAJHcGP9skY",
        "outputId": "1d5f152c-290f-4bcb-9051-4a5d6316b9d4"
      },
      "source": [
        "df.groupby('exp').mem_all.max().sort_values(ascending=False)/1e-9"
      ],
      "execution_count": null,
      "outputs": [
        {
          "output_type": "execute_result",
          "data": {
            "text/plain": [
              "exp\n",
              "no_checkpoints (forward only, yes grad)            2.934686e+18\n",
              "no_checkpoints (forward and backward, yes grad)    2.914439e+18\n",
              "3_checkpoints (forward and backward, yes grad)     9.940050e+17\n",
              "no_checkpoints (forward only, no grad)             9.940050e+17\n",
              "Name: mem_all, dtype: float64"
            ]
          },
          "metadata": {},
          "execution_count": 16
        }
      ]
    },
    {
      "cell_type": "code",
      "metadata": {
        "id": "ak5KAxpUGva3"
      },
      "source": [
        ""
      ],
      "execution_count": null,
      "outputs": []
    }
  ]
}